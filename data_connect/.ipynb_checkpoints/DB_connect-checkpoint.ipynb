{
 "cells": [
  {
   "cell_type": "code",
   "execution_count": 3,
   "metadata": {},
   "outputs": [],
   "source": [
    "import cx_Oracle\n",
    "import pymysql\n",
    "import pandas as pd\n",
    "import gspread\n",
    "from oauth2client.service_account import ServiceAccountCredentials\n",
    "\n",
    "class connect2data:\n",
    "    def __init__(self):\n",
    "        self.df = pd.DataFrame()\n",
    "    ## update you connection information    \n",
    "    def oracle(self, sql):\n",
    "        connection = cx_Oracle.connect('user_name/password@XX.XXX.XXX.XXX/ISDB',\n",
    "                                       encoding='UTF-8', nencoding='UTF-8')\n",
    "        cur = connection.cursor()\n",
    "        self.df = pd.read_sql(sql, con=connection)\n",
    "        return self.df\n",
    "    ## update you connection information   \n",
    "    def mysql(self, sql):\n",
    "        connection = pymysql.Connect(host='XX.XXX.XXX.XXX', port=3306, user='user_name',\n",
    "                                     passwd='password', db='XXX', charset='utf8')\n",
    "        cur = connection.cursor()\n",
    "        self.df = pd.read_sql(sql, con=connection)\n",
    "        return self.df\n",
    "    \n",
    "    ##update the google sheet name and the google sheet file key\n",
    "    def google_sheet(self, sheet_name, spreadsheet_key):\n",
    "        ##google sheet連線\n",
    "        scope = ['https://spreadsheets.google.com/feeds' ,'https://www.googleapis.com/auth/drive']\n",
    "        creds = ServiceAccountCredentials.from_json_keyfile_name(secret_path, scope)\n",
    "        client = gspread.authorize(creds)\n",
    "        #開啟 Google Sheet 資料表\n",
    "        sheet = client.open_by_key(spreadsheet_key).worksheet(sheet_name)\n",
    "        self.df = pd.DataFrame(sheet.get_all_values())\n",
    "        return self.df"
   ]
  },
  {
   "cell_type": "code",
   "execution_count": null,
   "metadata": {},
   "outputs": [],
   "source": []
  }
 ],
 "metadata": {
  "kernelspec": {
   "display_name": "Python 3",
   "language": "python",
   "name": "python3"
  },
  "language_info": {
   "codemirror_mode": {
    "name": "ipython",
    "version": 3
   },
   "file_extension": ".py",
   "mimetype": "text/x-python",
   "name": "python",
   "nbconvert_exporter": "python",
   "pygments_lexer": "ipython3",
   "version": "3.6.5"
  }
 },
 "nbformat": 4,
 "nbformat_minor": 4
}
