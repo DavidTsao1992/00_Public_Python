{
 "cells": [
  {
   "cell_type": "code",
   "execution_count": 3,
   "metadata": {},
   "outputs": [],
   "source": [
    "import cx_Oracle\n",
    "import pymysql\n",
    "import pandas as pd\n",
    "\n",
    "class connect2db:\n",
    "    def __init__(self):\n",
    "        df = pd.DataFrame()\n",
    "    ## update you connection information    \n",
    "    def oracle(self,sql):\n",
    "        connection = cx_Oracle.connect('user_name/password@XX.XXX.XXX.XXX/ISDB',\n",
    "                                       encoding='UTF-8', nencoding='UTF-8')\n",
    "        cur = connection.cursor()\n",
    "        df = pd.read_sql(sql, con=connection)\n",
    "        return df\n",
    "    ## update you connection information   \n",
    "    def mysql(self,sql):\n",
    "        connection = pymysql.Connect(host='XX.XXX.XXX.XXX', port=3306, user='user_name',\n",
    "                                     passwd='password', db='XXX', charset='utf8')\n",
    "        cur = connection.cursor()\n",
    "        df = pd.read_sql(sql, con=connection)\n",
    "        return df"
   ]
  },
  {
   "cell_type": "code",
   "execution_count": null,
   "metadata": {},
   "outputs": [],
   "source": []
  }
 ],
 "metadata": {
  "kernelspec": {
   "display_name": "Python 3",
   "language": "python",
   "name": "python3"
  },
  "language_info": {
   "codemirror_mode": {
    "name": "ipython",
    "version": 3
   },
   "file_extension": ".py",
   "mimetype": "text/x-python",
   "name": "python",
   "nbconvert_exporter": "python",
   "pygments_lexer": "ipython3",
   "version": "3.7.6"
  }
 },
 "nbformat": 4,
 "nbformat_minor": 4
}
