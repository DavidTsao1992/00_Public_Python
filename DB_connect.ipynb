{
 "cells": [
  {
   "cell_type": "code",
   "execution_count": null,
   "metadata": {},
   "outputs": [],
   "source": [
    "import pandas as pd\n",
    "import cx_Oracle\n",
    "\n",
    "class oracle_connection():\n",
    "connection = cx_Oracle.connect('david_tsao/B240KaHqTI@10.97.15.146/ISDB', encoding='UTF-8', nencoding='UTF-8')\n",
    "cur = connection.cursor()\n",
    "sql = '''\n",
    "select *\n",
    "from dm_ec.R_REPORT_403\n",
    "where 1=1\n",
    "and 營收月份 = '202103'\n",
    "'''\n",
    "result = cur.execute(sql)\n",
    "title = [i[0] for i in cur.description]\n",
    "df = pd.DataFrame(list(result))\n",
    "df.columns = title\n",
    "connection.commit() #確認執行\n",
    "cur.close()\n",
    "connection.close() #關閉連線\n",
    "##檔案儲存\n",
    "# writer = pd.ExcelWriter('202102_403.xlsx',engine = 'xlsxwriter')\n",
    "# df.to_excel(writer,index = False, sheet_name = 'details')\n",
    "# writer.save()\n",
    "print(df.shape)\n",
    "df.head()"
   ]
  }
 ],
 "metadata": {
  "kernelspec": {
   "display_name": "Python 3",
   "language": "python",
   "name": "python3"
  },
  "language_info": {
   "codemirror_mode": {
    "name": "ipython",
    "version": 3
   },
   "file_extension": ".py",
   "mimetype": "text/x-python",
   "name": "python",
   "nbconvert_exporter": "python",
   "pygments_lexer": "ipython3",
   "version": "3.7.6"
  }
 },
 "nbformat": 4,
 "nbformat_minor": 4
}
